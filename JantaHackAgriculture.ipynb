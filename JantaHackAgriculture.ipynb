{
  "nbformat": 4,
  "nbformat_minor": 0,
  "metadata": {
    "colab": {
      "name": "JantaHackAgriculture",
      "provenance": [],
      "collapsed_sections": [],
      "authorship_tag": "ABX9TyPcx3rq6qUsmbxY2Y/W+odS",
      "include_colab_link": true
    },
    "kernelspec": {
      "name": "python3",
      "display_name": "Python 3"
    }
  },
  "cells": [
    {
      "cell_type": "markdown",
      "metadata": {
        "id": "view-in-github",
        "colab_type": "text"
      },
      "source": [
        "<a href=\"https://colab.research.google.com/github/tridev003/Machine-Learning-in-Agriculture/blob/main/JantaHackAgriculture.ipynb\" target=\"_parent\"><img src=\"https://colab.research.google.com/assets/colab-badge.svg\" alt=\"Open In Colab\"/></a>"
      ]
    },
    {
      "cell_type": "code",
      "metadata": {
        "id": "ZstWr0QeTAdk"
      },
      "source": [
        "import pandas as pd\n",
        "import numpy as np\n",
        "import matplotlib as plt \n",
        "import seaborn as sns\n",
        "#import sweetviz as sv"
      ],
      "execution_count": null,
      "outputs": []
    },
    {
      "cell_type": "code",
      "metadata": {
        "id": "z9G53TrgUXQt"
      },
      "source": [
        "dataset_train  = pd.read_csv(\"/content/train_yaOffsB.csv\")\n",
        "dataset_test  = pd.read_csv(\"/content/test_pFkWwen.csv\")\n",
        "pd.pandas.set_option('display.max_columns',None)"
      ],
      "execution_count": null,
      "outputs": []
    },
    {
      "cell_type": "code",
      "metadata": {
        "id": "aM35O2rsUXN1",
        "outputId": "fecb3a87-a9b3-47c2-aee9-e9487e0a1de6",
        "colab": {
          "base_uri": "https://localhost:8080/",
          "height": 34
        }
      },
      "source": [
        "print(dataset_train.shape,dataset_test.shape)"
      ],
      "execution_count": null,
      "outputs": [
        {
          "output_type": "stream",
          "text": [
            "(88858, 10) (59310, 9)\n"
          ],
          "name": "stdout"
        }
      ]
    },
    {
      "cell_type": "code",
      "metadata": {
        "id": "sqv1tAWIUvew"
      },
      "source": [
        "\n",
        "#eda_data = sv.analyze(dataset_train)\n",
        "#eda_data.show_html('agriculture.html')\n"
      ],
      "execution_count": null,
      "outputs": []
    },
    {
      "cell_type": "code",
      "metadata": {
        "id": "arl9jT3BUvbz",
        "outputId": "921e285a-51b1-48ef-c102-d3e41f02a5a9",
        "colab": {
          "base_uri": "https://localhost:8080/",
          "height": 302
        }
      },
      "source": [
        "dataset_train.info()"
      ],
      "execution_count": null,
      "outputs": [
        {
          "output_type": "stream",
          "text": [
            "<class 'pandas.core.frame.DataFrame'>\n",
            "RangeIndex: 88858 entries, 0 to 88857\n",
            "Data columns (total 10 columns):\n",
            " #   Column                   Non-Null Count  Dtype  \n",
            "---  ------                   --------------  -----  \n",
            " 0   ID                       88858 non-null  object \n",
            " 1   Estimated_Insects_Count  88858 non-null  int64  \n",
            " 2   Crop_Type                88858 non-null  int64  \n",
            " 3   Soil_Type                88858 non-null  int64  \n",
            " 4   Pesticide_Use_Category   88858 non-null  int64  \n",
            " 5   Number_Doses_Week        88858 non-null  int64  \n",
            " 6   Number_Weeks_Used        79858 non-null  float64\n",
            " 7   Number_Weeks_Quit        88858 non-null  int64  \n",
            " 8   Season                   88858 non-null  int64  \n",
            " 9   Crop_Damage              88858 non-null  int64  \n",
            "dtypes: float64(1), int64(8), object(1)\n",
            "memory usage: 6.8+ MB\n"
          ],
          "name": "stdout"
        }
      ]
    },
    {
      "cell_type": "code",
      "metadata": {
        "id": "eHfW36ofYIl7",
        "outputId": "b4a8c2c5-9ee4-47e6-b947-a89654146fca",
        "colab": {
          "base_uri": "https://localhost:8080/",
          "height": 286
        }
      },
      "source": [
        "dataset_test.info()"
      ],
      "execution_count": null,
      "outputs": [
        {
          "output_type": "stream",
          "text": [
            "<class 'pandas.core.frame.DataFrame'>\n",
            "RangeIndex: 59310 entries, 0 to 59309\n",
            "Data columns (total 9 columns):\n",
            " #   Column                   Non-Null Count  Dtype  \n",
            "---  ------                   --------------  -----  \n",
            " 0   ID                       59310 non-null  object \n",
            " 1   Estimated_Insects_Count  59310 non-null  int64  \n",
            " 2   Crop_Type                59310 non-null  int64  \n",
            " 3   Soil_Type                59310 non-null  int64  \n",
            " 4   Pesticide_Use_Category   59310 non-null  int64  \n",
            " 5   Number_Doses_Week        59310 non-null  int64  \n",
            " 6   Number_Weeks_Used        53417 non-null  float64\n",
            " 7   Number_Weeks_Quit        59310 non-null  int64  \n",
            " 8   Season                   59310 non-null  int64  \n",
            "dtypes: float64(1), int64(7), object(1)\n",
            "memory usage: 4.1+ MB\n"
          ],
          "name": "stdout"
        }
      ]
    },
    {
      "cell_type": "markdown",
      "metadata": {
        "id": "qZs_DtPlYC3l"
      },
      "source": [
        "HANDLING MISSING VALUES IN TRAIN AND TEST DATA\n"
      ]
    },
    {
      "cell_type": "code",
      "metadata": {
        "id": "T0LyruKNYA5G",
        "outputId": "a248e92e-4096-443f-f0ec-bba0fbbffea4",
        "colab": {
          "base_uri": "https://localhost:8080/",
          "height": 34
        }
      },
      "source": [
        "dataset_train['Number_Weeks_Used'].isnull().sum()"
      ],
      "execution_count": null,
      "outputs": [
        {
          "output_type": "execute_result",
          "data": {
            "text/plain": [
              "9000"
            ]
          },
          "metadata": {
            "tags": []
          },
          "execution_count": 10
        }
      ]
    },
    {
      "cell_type": "code",
      "metadata": {
        "id": "JTo8XRtldgT9"
      },
      "source": [
        "#pd.pandas.set_option('display.max_rows',None)\n",
        "#dataset_train['Number_Weeks_Used'].head(1000)"
      ],
      "execution_count": null,
      "outputs": []
    },
    {
      "cell_type": "code",
      "metadata": {
        "id": "j6CXowYXccC7"
      },
      "source": [
        "dataset_train['Number_Weeks_Used'] = dataset_train['Number_Weeks_Used'].fillna(method='bfill')"
      ],
      "execution_count": null,
      "outputs": []
    },
    {
      "cell_type": "code",
      "metadata": {
        "id": "PyIZRbaFezLx",
        "outputId": "b5653431-f4ee-483e-d2c1-6557b3a488f6",
        "colab": {
          "base_uri": "https://localhost:8080/",
          "height": 34
        }
      },
      "source": [
        "dataset_train['Number_Weeks_Used'].isnull().sum()"
      ],
      "execution_count": null,
      "outputs": [
        {
          "output_type": "execute_result",
          "data": {
            "text/plain": [
              "0"
            ]
          },
          "metadata": {
            "tags": []
          },
          "execution_count": 12
        }
      ]
    },
    {
      "cell_type": "code",
      "metadata": {
        "id": "NCcDTDX4g6yz"
      },
      "source": [
        "sns.heatmap(dataset_train.isnull(),yticklabels=False,cbar=False,cmap='YlGnBu')\n"
      ],
      "execution_count": null,
      "outputs": []
    },
    {
      "cell_type": "markdown",
      "metadata": {
        "id": "GtRdO2-whAMT"
      },
      "source": [
        "handling missing values for test data"
      ]
    },
    {
      "cell_type": "code",
      "metadata": {
        "id": "1jmZD2JBg_qc",
        "outputId": "7c495feb-7ef1-4d7b-959f-e65a568bd89a",
        "colab": {
          "base_uri": "https://localhost:8080/",
          "height": 34
        }
      },
      "source": [
        "dataset_test['Number_Weeks_Used'].isnull().sum()"
      ],
      "execution_count": null,
      "outputs": [
        {
          "output_type": "execute_result",
          "data": {
            "text/plain": [
              "5893"
            ]
          },
          "metadata": {
            "tags": []
          },
          "execution_count": 14
        }
      ]
    },
    {
      "cell_type": "code",
      "metadata": {
        "id": "vksEcN9Fg_nj"
      },
      "source": [
        "dataset_test['Number_Weeks_Used']  = dataset_test['Number_Weeks_Used'].fillna(method = 'bfill')"
      ],
      "execution_count": null,
      "outputs": []
    },
    {
      "cell_type": "code",
      "metadata": {
        "id": "snDCJc4KhdX_",
        "outputId": "2552eed7-28c7-498f-a5ea-32c61f7c151c",
        "colab": {
          "base_uri": "https://localhost:8080/",
          "height": 34
        }
      },
      "source": [
        "dataset_test['Number_Weeks_Used'].isnull().sum()"
      ],
      "execution_count": null,
      "outputs": [
        {
          "output_type": "execute_result",
          "data": {
            "text/plain": [
              "0"
            ]
          },
          "metadata": {
            "tags": []
          },
          "execution_count": 17
        }
      ]
    },
    {
      "cell_type": "code",
      "metadata": {
        "id": "lS9Gfwmqjx1L",
        "outputId": "31523f2c-d266-4651-d067-05dd1a4db7f2",
        "colab": {
          "base_uri": "https://localhost:8080/",
          "height": 215
        }
      },
      "source": [
        "dataset_train.head()"
      ],
      "execution_count": null,
      "outputs": [
        {
          "output_type": "execute_result",
          "data": {
            "text/html": [
              "<div>\n",
              "<style scoped>\n",
              "    .dataframe tbody tr th:only-of-type {\n",
              "        vertical-align: middle;\n",
              "    }\n",
              "\n",
              "    .dataframe tbody tr th {\n",
              "        vertical-align: top;\n",
              "    }\n",
              "\n",
              "    .dataframe thead th {\n",
              "        text-align: right;\n",
              "    }\n",
              "</style>\n",
              "<table border=\"1\" class=\"dataframe\">\n",
              "  <thead>\n",
              "    <tr style=\"text-align: right;\">\n",
              "      <th></th>\n",
              "      <th>ID</th>\n",
              "      <th>Estimated_Insects_Count</th>\n",
              "      <th>Crop_Type</th>\n",
              "      <th>Soil_Type</th>\n",
              "      <th>Pesticide_Use_Category</th>\n",
              "      <th>Number_Doses_Week</th>\n",
              "      <th>Number_Weeks_Used</th>\n",
              "      <th>Number_Weeks_Quit</th>\n",
              "      <th>Season</th>\n",
              "      <th>Crop_Damage</th>\n",
              "    </tr>\n",
              "  </thead>\n",
              "  <tbody>\n",
              "    <tr>\n",
              "      <th>0</th>\n",
              "      <td>F00000001</td>\n",
              "      <td>188</td>\n",
              "      <td>1</td>\n",
              "      <td>0</td>\n",
              "      <td>1</td>\n",
              "      <td>0</td>\n",
              "      <td>0.0</td>\n",
              "      <td>0</td>\n",
              "      <td>1</td>\n",
              "      <td>0</td>\n",
              "    </tr>\n",
              "    <tr>\n",
              "      <th>1</th>\n",
              "      <td>F00000003</td>\n",
              "      <td>209</td>\n",
              "      <td>1</td>\n",
              "      <td>0</td>\n",
              "      <td>1</td>\n",
              "      <td>0</td>\n",
              "      <td>0.0</td>\n",
              "      <td>0</td>\n",
              "      <td>2</td>\n",
              "      <td>1</td>\n",
              "    </tr>\n",
              "    <tr>\n",
              "      <th>2</th>\n",
              "      <td>F00000004</td>\n",
              "      <td>257</td>\n",
              "      <td>1</td>\n",
              "      <td>0</td>\n",
              "      <td>1</td>\n",
              "      <td>0</td>\n",
              "      <td>0.0</td>\n",
              "      <td>0</td>\n",
              "      <td>2</td>\n",
              "      <td>1</td>\n",
              "    </tr>\n",
              "    <tr>\n",
              "      <th>3</th>\n",
              "      <td>F00000005</td>\n",
              "      <td>257</td>\n",
              "      <td>1</td>\n",
              "      <td>1</td>\n",
              "      <td>1</td>\n",
              "      <td>0</td>\n",
              "      <td>0.0</td>\n",
              "      <td>0</td>\n",
              "      <td>2</td>\n",
              "      <td>1</td>\n",
              "    </tr>\n",
              "    <tr>\n",
              "      <th>4</th>\n",
              "      <td>F00000006</td>\n",
              "      <td>342</td>\n",
              "      <td>1</td>\n",
              "      <td>0</td>\n",
              "      <td>1</td>\n",
              "      <td>0</td>\n",
              "      <td>0.0</td>\n",
              "      <td>0</td>\n",
              "      <td>2</td>\n",
              "      <td>1</td>\n",
              "    </tr>\n",
              "  </tbody>\n",
              "</table>\n",
              "</div>"
            ],
            "text/plain": [
              "          ID  Estimated_Insects_Count  Crop_Type  Soil_Type  \\\n",
              "0  F00000001                      188          1          0   \n",
              "1  F00000003                      209          1          0   \n",
              "2  F00000004                      257          1          0   \n",
              "3  F00000005                      257          1          1   \n",
              "4  F00000006                      342          1          0   \n",
              "\n",
              "   Pesticide_Use_Category  Number_Doses_Week  Number_Weeks_Used  \\\n",
              "0                       1                  0                0.0   \n",
              "1                       1                  0                0.0   \n",
              "2                       1                  0                0.0   \n",
              "3                       1                  0                0.0   \n",
              "4                       1                  0                0.0   \n",
              "\n",
              "   Number_Weeks_Quit  Season  Crop_Damage  \n",
              "0                  0       1            0  \n",
              "1                  0       2            1  \n",
              "2                  0       2            1  \n",
              "3                  0       2            1  \n",
              "4                  0       2            1  "
            ]
          },
          "metadata": {
            "tags": []
          },
          "execution_count": 18
        }
      ]
    },
    {
      "cell_type": "markdown",
      "metadata": {
        "id": "Q5a5IYuAkJJx"
      },
      "source": [
        "handling columns sequncially"
      ]
    },
    {
      "cell_type": "markdown",
      "metadata": {
        "id": "9f9WEg4-iDx3"
      },
      "source": [
        "dropping id column"
      ]
    },
    {
      "cell_type": "code",
      "metadata": {
        "id": "VK787fu2h_tN",
        "outputId": "f02d2dc8-167e-47c7-cbd3-51db81c1c06c",
        "colab": {
          "base_uri": "https://localhost:8080/",
          "height": 34
        }
      },
      "source": [
        " dataset_train.drop(['ID'],axis =1,inplace =True)\n",
        " dataset_test.drop(['ID'],axis =1,inplace =True)\n",
        "print(dataset_train.shape,dataset_test.shape)"
      ],
      "execution_count": null,
      "outputs": [
        {
          "output_type": "stream",
          "text": [
            "(88858, 9) (59310, 8)\n"
          ],
          "name": "stdout"
        }
      ]
    },
    {
      "cell_type": "code",
      "metadata": {
        "id": "MScX0ugXhgsr",
        "outputId": "ae875405-540e-461d-f042-4ff56d0a9bb1",
        "colab": {
          "base_uri": "https://localhost:8080/",
          "height": 218
        }
      },
      "source": [
        "dataset_train['Estimated_Insects_Count'].value_counts()"
      ],
      "execution_count": null,
      "outputs": [
        {
          "output_type": "execute_result",
          "data": {
            "text/plain": [
              "1212    3438\n",
              "1132    3370\n",
              "1478    3358\n",
              "1385    3309\n",
              "1056    3235\n",
              "        ... \n",
              "3896     134\n",
              "3515     123\n",
              "4097     113\n",
              "231       89\n",
              "169       63\n",
              "Name: Estimated_Insects_Count, Length: 71, dtype: int64"
            ]
          },
          "metadata": {
            "tags": []
          },
          "execution_count": 20
        }
      ]
    },
    {
      "cell_type": "code",
      "metadata": {
        "id": "FH2b0HVMhgpR"
      },
      "source": [
        "dataset_train['Estimated_Insects_Count'] = dataset_train['Estimated_Insects_Count'].transform(np.log)"
      ],
      "execution_count": null,
      "outputs": []
    },
    {
      "cell_type": "code",
      "metadata": {
        "id": "WnX-q6JInR1t",
        "outputId": "b802998f-a0f4-4d28-ce24-3a6cd0f35190",
        "colab": {
          "base_uri": "https://localhost:8080/",
          "height": 218
        }
      },
      "source": [
        "dataset_train['Estimated_Insects_Count'].head(100)"
      ],
      "execution_count": null,
      "outputs": [
        {
          "output_type": "execute_result",
          "data": {
            "text/plain": [
              "0     5.236442\n",
              "1     5.342334\n",
              "2     5.549076\n",
              "3     5.549076\n",
              "4     5.834811\n",
              "        ...   \n",
              "95    6.437752\n",
              "96    6.437752\n",
              "97    6.439350\n",
              "98    6.437752\n",
              "99    6.437752\n",
              "Name: Estimated_Insects_Count, Length: 100, dtype: float64"
            ]
          },
          "metadata": {
            "tags": []
          },
          "execution_count": 22
        }
      ]
    },
    {
      "cell_type": "code",
      "metadata": {
        "id": "rcft8osbnmwI"
      },
      "source": [
        "dataset_test['Estimated_Insects_Count'] = dataset_test['Estimated_Insects_Count'].transform(np.log)"
      ],
      "execution_count": null,
      "outputs": []
    },
    {
      "cell_type": "markdown",
      "metadata": {
        "id": "_l1c97eDnjCy"
      },
      "source": [
        "correlation "
      ]
    },
    {
      "cell_type": "code",
      "metadata": {
        "id": "mVMuJjiwniku",
        "outputId": "427aac78-5bb1-4d3e-cae6-afc857bac1fb",
        "colab": {
          "base_uri": "https://localhost:8080/",
          "height": 185
        }
      },
      "source": [
        "corr_matrix  = dataset_train.corr()\n",
        "corr_matrix['Crop_Damage'].sort_values(ascending =False)"
      ],
      "execution_count": null,
      "outputs": [
        {
          "output_type": "execute_result",
          "data": {
            "text/plain": [
              "Crop_Damage                1.000000\n",
              "Number_Weeks_Used          0.219813\n",
              "Estimated_Insects_Count    0.195332\n",
              "Pesticide_Use_Category     0.175002\n",
              "Season                    -0.000184\n",
              "Crop_Type                 -0.016495\n",
              "Soil_Type                 -0.021997\n",
              "Number_Doses_Week         -0.030874\n",
              "Number_Weeks_Quit         -0.133117\n",
              "Name: Crop_Damage, dtype: float64"
            ]
          },
          "metadata": {
            "tags": []
          },
          "execution_count": 25
        }
      ]
    },
    {
      "cell_type": "code",
      "metadata": {
        "id": "grpOi_OIo11X",
        "outputId": "7f242bba-61af-4640-8a44-9c7cbb588e1b",
        "colab": {
          "base_uri": "https://localhost:8080/",
          "height": 67
        }
      },
      "source": [
        "dataset_train['Crop_Type'].value_counts()"
      ],
      "execution_count": null,
      "outputs": [
        {
          "output_type": "execute_result",
          "data": {
            "text/plain": [
              "0    63589\n",
              "1    25269\n",
              "Name: Crop_Type, dtype: int64"
            ]
          },
          "metadata": {
            "tags": []
          },
          "execution_count": 26
        }
      ]
    },
    {
      "cell_type": "code",
      "metadata": {
        "id": "woKfVnW1o1qJ",
        "outputId": "a0e89154-1e41-40a3-9f80-f419ab74db45",
        "colab": {
          "base_uri": "https://localhost:8080/",
          "height": 67
        }
      },
      "source": [
        "dataset_train['Soil_Type'].value_counts()"
      ],
      "execution_count": null,
      "outputs": [
        {
          "output_type": "execute_result",
          "data": {
            "text/plain": [
              "0    48124\n",
              "1    40734\n",
              "Name: Soil_Type, dtype: int64"
            ]
          },
          "metadata": {
            "tags": []
          },
          "execution_count": 27
        }
      ]
    },
    {
      "cell_type": "code",
      "metadata": {
        "id": "CXBbzCLBprmJ",
        "outputId": "91e263d2-24d9-4f3a-b296-93bd01cbb679",
        "colab": {
          "base_uri": "https://localhost:8080/",
          "height": 84
        }
      },
      "source": [
        "dataset_train['Pesticide_Use_Category'].value_counts()"
      ],
      "execution_count": null,
      "outputs": [
        {
          "output_type": "execute_result",
          "data": {
            "text/plain": [
              "2    63709\n",
              "3    24312\n",
              "1      837\n",
              "Name: Pesticide_Use_Category, dtype: int64"
            ]
          },
          "metadata": {
            "tags": []
          },
          "execution_count": 28
        }
      ]
    },
    {
      "cell_type": "code",
      "metadata": {
        "id": "d8cpRIDSpu9A",
        "outputId": "56c51a42-fa33-4932-bf93-dd9bac0797bf",
        "colab": {
          "base_uri": "https://localhost:8080/",
          "height": 370
        }
      },
      "source": [
        "dataset_train['Number_Doses_Week'].value_counts()"
      ],
      "execution_count": null,
      "outputs": [
        {
          "output_type": "execute_result",
          "data": {
            "text/plain": [
              "20    22589\n",
              "40    12298\n",
              "10    12111\n",
              "30    10438\n",
              "15     8178\n",
              "5      5520\n",
              "25     4890\n",
              "60     4367\n",
              "50     3361\n",
              "35     1832\n",
              "45      936\n",
              "0       837\n",
              "80      672\n",
              "70      303\n",
              "55      277\n",
              "90       83\n",
              "65       64\n",
              "75       61\n",
              "95       30\n",
              "85       11\n",
              "Name: Number_Doses_Week, dtype: int64"
            ]
          },
          "metadata": {
            "tags": []
          },
          "execution_count": 29
        }
      ]
    },
    {
      "cell_type": "code",
      "metadata": {
        "id": "ojrAU4d9pvBp",
        "outputId": "93eeb9f8-807d-4845-de9c-33d19919bd8c",
        "colab": {
          "base_uri": "https://localhost:8080/",
          "height": 218
        }
      },
      "source": [
        "dataset_train['Number_Weeks_Used'].value_counts()"
      ],
      "execution_count": null,
      "outputs": [
        {
          "output_type": "execute_result",
          "data": {
            "text/plain": [
              "20.0    4294\n",
              "30.0    4144\n",
              "25.0    3499\n",
              "40.0    2998\n",
              "15.0    2778\n",
              "        ... \n",
              "63.0      54\n",
              "64.0      48\n",
              "65.0      31\n",
              "66.0      18\n",
              "67.0       9\n",
              "Name: Number_Weeks_Used, Length: 64, dtype: int64"
            ]
          },
          "metadata": {
            "tags": []
          },
          "execution_count": 30
        }
      ]
    },
    {
      "cell_type": "code",
      "metadata": {
        "id": "2g3MW3xDpu7g"
      },
      "source": [
        "dataset_train['Number_Weeks_Quit'].value_counts()"
      ],
      "execution_count": null,
      "outputs": []
    },
    {
      "cell_type": "code",
      "metadata": {
        "id": "V6xYBadppwzS",
        "outputId": "36b2f4f9-1fb7-4d23-fe55-a9f7003fd364",
        "colab": {
          "base_uri": "https://localhost:8080/",
          "height": 84
        }
      },
      "source": [
        "dataset_train['Season'].value_counts()"
      ],
      "execution_count": null,
      "outputs": [
        {
          "output_type": "execute_result",
          "data": {
            "text/plain": [
              "2    44210\n",
              "1    26902\n",
              "3    17746\n",
              "Name: Season, dtype: int64"
            ]
          },
          "metadata": {
            "tags": []
          },
          "execution_count": 32
        }
      ]
    },
    {
      "cell_type": "code",
      "metadata": {
        "id": "TpCdOY4OpyEm",
        "outputId": "334c7f74-9eba-4198-d9c6-918e7667a405",
        "colab": {
          "base_uri": "https://localhost:8080/",
          "height": 84
        }
      },
      "source": [
        "dataset_train['Crop_Damage'].value_counts()"
      ],
      "execution_count": null,
      "outputs": [
        {
          "output_type": "execute_result",
          "data": {
            "text/plain": [
              "0    74238\n",
              "1    12307\n",
              "2     2313\n",
              "Name: Crop_Damage, dtype: int64"
            ]
          },
          "metadata": {
            "tags": []
          },
          "execution_count": 33
        }
      ]
    },
    {
      "cell_type": "code",
      "metadata": {
        "id": "tIt7ITsh5E9d",
        "outputId": "f0a5bcc9-ae4e-483c-bc81-607bd16827d9",
        "colab": {
          "base_uri": "https://localhost:8080/",
          "height": 84
        }
      },
      "source": [
        "dataset_train.columns"
      ],
      "execution_count": null,
      "outputs": [
        {
          "output_type": "execute_result",
          "data": {
            "text/plain": [
              "Index(['Estimated_Insects_Count', 'Crop_Type', 'Soil_Type',\n",
              "       'Pesticide_Use_Category', 'Number_Doses_Week', 'Number_Weeks_Used',\n",
              "       'Number_Weeks_Quit', 'Season', 'Crop_Damage'],\n",
              "      dtype='object')"
            ]
          },
          "metadata": {
            "tags": []
          },
          "execution_count": 34
        }
      ]
    },
    {
      "cell_type": "markdown",
      "metadata": {
        "id": "cbvclhXqv-B2"
      },
      "source": [
        "Feature scaling"
      ]
    },
    {
      "cell_type": "code",
      "metadata": {
        "id": "yBkd69Civ9pK",
        "outputId": "0d4f22d8-3ef4-4db7-8583-4504ef928b0a",
        "colab": {
          "base_uri": "https://localhost:8080/",
          "height": 84
        }
      },
      "source": [
        "feature_scale_train =[feature for feature in dataset_train.columns if feature not in ['Crop_Type','Soil_Type','Pesticide_Use_Category','Season','Crop_Damage']]\n",
        "\n",
        "from sklearn.preprocessing import MinMaxScaler\n",
        "scaler = MinMaxScaler() \n",
        "scaler.fit(dataset_train[feature_scale_train])\n",
        "feature_scale_train"
      ],
      "execution_count": null,
      "outputs": [
        {
          "output_type": "execute_result",
          "data": {
            "text/plain": [
              "['Estimated_Insects_Count',\n",
              " 'Number_Doses_Week',\n",
              " 'Number_Weeks_Used',\n",
              " 'Number_Weeks_Quit']"
            ]
          },
          "metadata": {
            "tags": []
          },
          "execution_count": 35
        }
      ]
    },
    {
      "cell_type": "code",
      "metadata": {
        "id": "2zP_R0iz8dcv"
      },
      "source": [
        "#dataset_train.reset_index(drop=True, inplace=True)\n",
        "#df2.reset_index(drop=True, inplace=True)"
      ],
      "execution_count": null,
      "outputs": []
    },
    {
      "cell_type": "code",
      "metadata": {
        "id": "q2H90ZDq7rKU"
      },
      "source": [
        "\n",
        "#final_df =  pd.DataFrame(scaler.fit_transform(dataset_train[feature_scale_train]))"
      ],
      "execution_count": null,
      "outputs": []
    },
    {
      "cell_type": "code",
      "metadata": {
        "id": "I6IfXk_yxt4c"
      },
      "source": [
        "\n",
        "X_train = pd.concat([dataset_train[['Crop_Damage','Season','Crop_Type','Soil_Type','Pesticide_Use_Category']].reset_index(drop=True),\n",
        "                       pd.DataFrame(scaler.transform(dataset_train[feature_scale_train]),\n",
        "                                    columns = ['Estimated_Insects_Count',\n",
        " 'Number_Doses_Week',\n",
        " 'Number_Weeks_Used',\n",
        " 'Number_Weeks_Quit'])],\n",
        "                      axis =1)"
      ],
      "execution_count": null,
      "outputs": []
    },
    {
      "cell_type": "code",
      "metadata": {
        "id": "nFKIrC-0zYyC",
        "outputId": "6e00980b-5bfd-44f5-a54e-084735dce48e",
        "colab": {
          "base_uri": "https://localhost:8080/",
          "height": 422
        }
      },
      "source": [
        "X_train.head(100)"
      ],
      "execution_count": null,
      "outputs": [
        {
          "output_type": "execute_result",
          "data": {
            "text/html": [
              "<div>\n",
              "<style scoped>\n",
              "    .dataframe tbody tr th:only-of-type {\n",
              "        vertical-align: middle;\n",
              "    }\n",
              "\n",
              "    .dataframe tbody tr th {\n",
              "        vertical-align: top;\n",
              "    }\n",
              "\n",
              "    .dataframe thead th {\n",
              "        text-align: right;\n",
              "    }\n",
              "</style>\n",
              "<table border=\"1\" class=\"dataframe\">\n",
              "  <thead>\n",
              "    <tr style=\"text-align: right;\">\n",
              "      <th></th>\n",
              "      <th>Crop_Damage</th>\n",
              "      <th>Season</th>\n",
              "      <th>Crop_Type</th>\n",
              "      <th>Soil_Type</th>\n",
              "      <th>Pesticide_Use_Category</th>\n",
              "      <th>Estimated_Insects_Count</th>\n",
              "      <th>Number_Doses_Week</th>\n",
              "      <th>Number_Weeks_Used</th>\n",
              "      <th>Number_Weeks_Quit</th>\n",
              "    </tr>\n",
              "  </thead>\n",
              "  <tbody>\n",
              "    <tr>\n",
              "      <th>0</th>\n",
              "      <td>0</td>\n",
              "      <td>1</td>\n",
              "      <td>1</td>\n",
              "      <td>0</td>\n",
              "      <td>1</td>\n",
              "      <td>0.068274</td>\n",
              "      <td>0.000000</td>\n",
              "      <td>0.000000</td>\n",
              "      <td>0.0</td>\n",
              "    </tr>\n",
              "    <tr>\n",
              "      <th>1</th>\n",
              "      <td>1</td>\n",
              "      <td>2</td>\n",
              "      <td>1</td>\n",
              "      <td>0</td>\n",
              "      <td>1</td>\n",
              "      <td>0.100291</td>\n",
              "      <td>0.000000</td>\n",
              "      <td>0.000000</td>\n",
              "      <td>0.0</td>\n",
              "    </tr>\n",
              "    <tr>\n",
              "      <th>2</th>\n",
              "      <td>1</td>\n",
              "      <td>2</td>\n",
              "      <td>1</td>\n",
              "      <td>0</td>\n",
              "      <td>1</td>\n",
              "      <td>0.162800</td>\n",
              "      <td>0.000000</td>\n",
              "      <td>0.000000</td>\n",
              "      <td>0.0</td>\n",
              "    </tr>\n",
              "    <tr>\n",
              "      <th>3</th>\n",
              "      <td>1</td>\n",
              "      <td>2</td>\n",
              "      <td>1</td>\n",
              "      <td>1</td>\n",
              "      <td>1</td>\n",
              "      <td>0.162800</td>\n",
              "      <td>0.000000</td>\n",
              "      <td>0.000000</td>\n",
              "      <td>0.0</td>\n",
              "    </tr>\n",
              "    <tr>\n",
              "      <th>4</th>\n",
              "      <td>1</td>\n",
              "      <td>2</td>\n",
              "      <td>1</td>\n",
              "      <td>0</td>\n",
              "      <td>1</td>\n",
              "      <td>0.249193</td>\n",
              "      <td>0.000000</td>\n",
              "      <td>0.000000</td>\n",
              "      <td>0.0</td>\n",
              "    </tr>\n",
              "    <tr>\n",
              "      <th>...</th>\n",
              "      <td>...</td>\n",
              "      <td>...</td>\n",
              "      <td>...</td>\n",
              "      <td>...</td>\n",
              "      <td>...</td>\n",
              "      <td>...</td>\n",
              "      <td>...</td>\n",
              "      <td>...</td>\n",
              "      <td>...</td>\n",
              "    </tr>\n",
              "    <tr>\n",
              "      <th>95</th>\n",
              "      <td>0</td>\n",
              "      <td>1</td>\n",
              "      <td>0</td>\n",
              "      <td>0</td>\n",
              "      <td>3</td>\n",
              "      <td>0.431495</td>\n",
              "      <td>0.421053</td>\n",
              "      <td>0.223881</td>\n",
              "      <td>0.0</td>\n",
              "    </tr>\n",
              "    <tr>\n",
              "      <th>96</th>\n",
              "      <td>0</td>\n",
              "      <td>2</td>\n",
              "      <td>0</td>\n",
              "      <td>0</td>\n",
              "      <td>3</td>\n",
              "      <td>0.431495</td>\n",
              "      <td>0.526316</td>\n",
              "      <td>0.597015</td>\n",
              "      <td>0.0</td>\n",
              "    </tr>\n",
              "    <tr>\n",
              "      <th>97</th>\n",
              "      <td>0</td>\n",
              "      <td>1</td>\n",
              "      <td>0</td>\n",
              "      <td>1</td>\n",
              "      <td>3</td>\n",
              "      <td>0.431979</td>\n",
              "      <td>0.052632</td>\n",
              "      <td>0.477612</td>\n",
              "      <td>0.0</td>\n",
              "    </tr>\n",
              "    <tr>\n",
              "      <th>98</th>\n",
              "      <td>0</td>\n",
              "      <td>3</td>\n",
              "      <td>0</td>\n",
              "      <td>1</td>\n",
              "      <td>3</td>\n",
              "      <td>0.431495</td>\n",
              "      <td>0.210526</td>\n",
              "      <td>0.343284</td>\n",
              "      <td>0.0</td>\n",
              "    </tr>\n",
              "    <tr>\n",
              "      <th>99</th>\n",
              "      <td>0</td>\n",
              "      <td>3</td>\n",
              "      <td>0</td>\n",
              "      <td>1</td>\n",
              "      <td>3</td>\n",
              "      <td>0.431495</td>\n",
              "      <td>0.263158</td>\n",
              "      <td>0.477612</td>\n",
              "      <td>0.0</td>\n",
              "    </tr>\n",
              "  </tbody>\n",
              "</table>\n",
              "<p>100 rows × 9 columns</p>\n",
              "</div>"
            ],
            "text/plain": [
              "    Crop_Damage  Season  Crop_Type  Soil_Type  Pesticide_Use_Category  \\\n",
              "0             0       1          1          0                       1   \n",
              "1             1       2          1          0                       1   \n",
              "2             1       2          1          0                       1   \n",
              "3             1       2          1          1                       1   \n",
              "4             1       2          1          0                       1   \n",
              "..          ...     ...        ...        ...                     ...   \n",
              "95            0       1          0          0                       3   \n",
              "96            0       2          0          0                       3   \n",
              "97            0       1          0          1                       3   \n",
              "98            0       3          0          1                       3   \n",
              "99            0       3          0          1                       3   \n",
              "\n",
              "    Estimated_Insects_Count  Number_Doses_Week  Number_Weeks_Used  \\\n",
              "0                  0.068274           0.000000           0.000000   \n",
              "1                  0.100291           0.000000           0.000000   \n",
              "2                  0.162800           0.000000           0.000000   \n",
              "3                  0.162800           0.000000           0.000000   \n",
              "4                  0.249193           0.000000           0.000000   \n",
              "..                      ...                ...                ...   \n",
              "95                 0.431495           0.421053           0.223881   \n",
              "96                 0.431495           0.526316           0.597015   \n",
              "97                 0.431979           0.052632           0.477612   \n",
              "98                 0.431495           0.210526           0.343284   \n",
              "99                 0.431495           0.263158           0.477612   \n",
              "\n",
              "    Number_Weeks_Quit  \n",
              "0                 0.0  \n",
              "1                 0.0  \n",
              "2                 0.0  \n",
              "3                 0.0  \n",
              "4                 0.0  \n",
              "..                ...  \n",
              "95                0.0  \n",
              "96                0.0  \n",
              "97                0.0  \n",
              "98                0.0  \n",
              "99                0.0  \n",
              "\n",
              "[100 rows x 9 columns]"
            ]
          },
          "metadata": {
            "tags": []
          },
          "execution_count": 37
        }
      ]
    },
    {
      "cell_type": "markdown",
      "metadata": {
        "id": "xieMivRQ96R2"
      },
      "source": [
        "feature scaling for test data"
      ]
    },
    {
      "cell_type": "code",
      "metadata": {
        "id": "pLDjY1gh9-G-",
        "outputId": "0b7959e6-0ed4-41f7-b629-86f03dc33549",
        "colab": {
          "base_uri": "https://localhost:8080/",
          "height": 84
        }
      },
      "source": [
        "feature_scale_test =[feature for feature in dataset_test.columns if feature not in ['Crop_Type','Soil_Type','Pesticide_Use_Category','Season']]\n",
        "\n",
        "from sklearn.preprocessing import MinMaxScaler\n",
        "scaler = MinMaxScaler() \n",
        "scaler.fit(dataset_test[feature_scale_test])\n",
        "feature_scale_test"
      ],
      "execution_count": null,
      "outputs": [
        {
          "output_type": "execute_result",
          "data": {
            "text/plain": [
              "['Estimated_Insects_Count',\n",
              " 'Number_Doses_Week',\n",
              " 'Number_Weeks_Used',\n",
              " 'Number_Weeks_Quit']"
            ]
          },
          "metadata": {
            "tags": []
          },
          "execution_count": 38
        }
      ]
    },
    {
      "cell_type": "code",
      "metadata": {
        "id": "z9qdMRnl-QwC"
      },
      "source": [
        "X_test = pd.concat([dataset_test[['Season','Crop_Type','Soil_Type','Pesticide_Use_Category']].reset_index(drop=True),\n",
        "                       pd.DataFrame(scaler.transform(dataset_test[feature_scale_test]),\n",
        "                                    columns = ['Estimated_Insects_Count',\n",
        " 'Number_Doses_Week',\n",
        " 'Number_Weeks_Used',\n",
        " 'Number_Weeks_Quit'])],\n",
        "                      axis =1)"
      ],
      "execution_count": null,
      "outputs": []
    },
    {
      "cell_type": "code",
      "metadata": {
        "id": "QVt_Ms5v-QtC",
        "outputId": "dcbd7002-ac9b-410f-b635-808c95d114aa",
        "colab": {
          "base_uri": "https://localhost:8080/",
          "height": 215
        }
      },
      "source": [
        "X_test.head()"
      ],
      "execution_count": null,
      "outputs": [
        {
          "output_type": "execute_result",
          "data": {
            "text/html": [
              "<div>\n",
              "<style scoped>\n",
              "    .dataframe tbody tr th:only-of-type {\n",
              "        vertical-align: middle;\n",
              "    }\n",
              "\n",
              "    .dataframe tbody tr th {\n",
              "        vertical-align: top;\n",
              "    }\n",
              "\n",
              "    .dataframe thead th {\n",
              "        text-align: right;\n",
              "    }\n",
              "</style>\n",
              "<table border=\"1\" class=\"dataframe\">\n",
              "  <thead>\n",
              "    <tr style=\"text-align: right;\">\n",
              "      <th></th>\n",
              "      <th>Season</th>\n",
              "      <th>Crop_Type</th>\n",
              "      <th>Soil_Type</th>\n",
              "      <th>Pesticide_Use_Category</th>\n",
              "      <th>Estimated_Insects_Count</th>\n",
              "      <th>Number_Doses_Week</th>\n",
              "      <th>Number_Weeks_Used</th>\n",
              "      <th>Number_Weeks_Quit</th>\n",
              "    </tr>\n",
              "  </thead>\n",
              "  <tbody>\n",
              "    <tr>\n",
              "      <th>0</th>\n",
              "      <td>2</td>\n",
              "      <td>1</td>\n",
              "      <td>1</td>\n",
              "      <td>1</td>\n",
              "      <td>0.086966</td>\n",
              "      <td>0.0</td>\n",
              "      <td>0.0</td>\n",
              "      <td>0.0</td>\n",
              "    </tr>\n",
              "    <tr>\n",
              "      <th>1</th>\n",
              "      <td>2</td>\n",
              "      <td>1</td>\n",
              "      <td>1</td>\n",
              "      <td>1</td>\n",
              "      <td>0.360821</td>\n",
              "      <td>0.0</td>\n",
              "      <td>0.0</td>\n",
              "      <td>0.0</td>\n",
              "    </tr>\n",
              "    <tr>\n",
              "      <th>2</th>\n",
              "      <td>2</td>\n",
              "      <td>1</td>\n",
              "      <td>0</td>\n",
              "      <td>1</td>\n",
              "      <td>0.494939</td>\n",
              "      <td>0.0</td>\n",
              "      <td>0.0</td>\n",
              "      <td>0.0</td>\n",
              "    </tr>\n",
              "    <tr>\n",
              "      <th>3</th>\n",
              "      <td>2</td>\n",
              "      <td>1</td>\n",
              "      <td>0</td>\n",
              "      <td>1</td>\n",
              "      <td>0.541885</td>\n",
              "      <td>0.0</td>\n",
              "      <td>0.0</td>\n",
              "      <td>0.0</td>\n",
              "    </tr>\n",
              "    <tr>\n",
              "      <th>4</th>\n",
              "      <td>1</td>\n",
              "      <td>0</td>\n",
              "      <td>0</td>\n",
              "      <td>1</td>\n",
              "      <td>0.564597</td>\n",
              "      <td>0.0</td>\n",
              "      <td>0.0</td>\n",
              "      <td>0.0</td>\n",
              "    </tr>\n",
              "  </tbody>\n",
              "</table>\n",
              "</div>"
            ],
            "text/plain": [
              "   Season  Crop_Type  Soil_Type  Pesticide_Use_Category  \\\n",
              "0       2          1          1                       1   \n",
              "1       2          1          1                       1   \n",
              "2       2          1          0                       1   \n",
              "3       2          1          0                       1   \n",
              "4       1          0          0                       1   \n",
              "\n",
              "   Estimated_Insects_Count  Number_Doses_Week  Number_Weeks_Used  \\\n",
              "0                 0.086966                0.0                0.0   \n",
              "1                 0.360821                0.0                0.0   \n",
              "2                 0.494939                0.0                0.0   \n",
              "3                 0.541885                0.0                0.0   \n",
              "4                 0.564597                0.0                0.0   \n",
              "\n",
              "   Number_Weeks_Quit  \n",
              "0                0.0  \n",
              "1                0.0  \n",
              "2                0.0  \n",
              "3                0.0  \n",
              "4                0.0  "
            ]
          },
          "metadata": {
            "tags": []
          },
          "execution_count": 40
        }
      ]
    },
    {
      "cell_type": "code",
      "metadata": {
        "id": "vm1VwdhG_ipT"
      },
      "source": [
        "Y_train = X_train['Crop_Damage']\n",
        "X_train = X_train.drop(['Crop_Damage'],axis =1)\n"
      ],
      "execution_count": null,
      "outputs": []
    },
    {
      "cell_type": "code",
      "metadata": {
        "id": "acoNIh1nyJ-S"
      },
      "source": [
        "#X_train =  X_train.drop(['Number_Weeks_Quit'],axis = 1)\n",
        "#X_test = X_test.drop(['Number_Weeks_Quit'],axis=1)"
      ],
      "execution_count": null,
      "outputs": []
    },
    {
      "cell_type": "code",
      "metadata": {
        "id": "3_URdGTpyJyK"
      },
      "source": [
        ""
      ],
      "execution_count": null,
      "outputs": []
    },
    {
      "cell_type": "code",
      "metadata": {
        "id": "Vf6MMbJk_imI",
        "outputId": "9a54818c-d09a-4b55-b5fa-c139c9d77bbd",
        "colab": {
          "base_uri": "https://localhost:8080/",
          "height": 34
        }
      },
      "source": [
        "print(X_train.shape,Y_train.shape,X_test.shape)"
      ],
      "execution_count": null,
      "outputs": [
        {
          "output_type": "stream",
          "text": [
            "(88858, 8) (88858,) (59310, 8)\n"
          ],
          "name": "stdout"
        }
      ]
    },
    {
      "cell_type": "markdown",
      "metadata": {
        "id": "zFYT_TpI-wV3"
      },
      "source": [
        "predicting and selecting algorithm"
      ]
    },
    {
      "cell_type": "markdown",
      "metadata": {
        "id": "utooSGB8x3LN"
      },
      "source": [
        "XGBOOST"
      ]
    },
    {
      "cell_type": "code",
      "metadata": {
        "id": "NKwR0QJw-vb4"
      },
      "source": [
        "import xgboost\n",
        "classifier=xgboost.XGBClassifier()"
      ],
      "execution_count": null,
      "outputs": []
    },
    {
      "cell_type": "code",
      "metadata": {
        "id": "C9Re2KB7-vTz"
      },
      "source": [
        "import xgboost\n",
        "regressor=xgboost.XGBRegressor()"
      ],
      "execution_count": null,
      "outputs": []
    },
    {
      "cell_type": "code",
      "metadata": {
        "id": "Ku13IKqt-5VU"
      },
      "source": [
        "booster=['gbtree','gblinear']\n",
        "base_score=[0.25,0.5,0.75,1]"
      ],
      "execution_count": null,
      "outputs": []
    },
    {
      "cell_type": "code",
      "metadata": {
        "id": "SSKJhXUE_Cd3"
      },
      "source": [
        "## Hyper Parameter Optimization\n",
        "\n",
        "\n",
        "n_estimators = [100, 500, 900]\n",
        "max_depth = [2, 3, 5]\n",
        "booster=['gbtree','gblinear']\n",
        "learning_rate=[0.05,0.1,0.15]\n",
        "min_child_weight=[1,2,3]\n",
        "\n",
        "# Define the grid of hyperparameters to search\n",
        "hyperparameter_grid = {\n",
        "    'n_estimators': n_estimators,\n",
        "    'max_depth':max_depth,\n",
        "    'learning_rate':learning_rate,\n",
        "    'min_child_weight':min_child_weight,\n",
        "    'booster':booster,\n",
        "    'base_score':base_score\n",
        "    }"
      ],
      "execution_count": null,
      "outputs": []
    },
    {
      "cell_type": "code",
      "metadata": {
        "id": "JZ0iw9A7_Ca8"
      },
      "source": [
        "# Set up the random search with 4-fold cross validation\n",
        "from sklearn.model_selection import RandomizedSearchCV\n",
        "random_cv = RandomizedSearchCV(estimator=classifier,\n",
        "            param_distributions=hyperparameter_grid,\n",
        "            cv=5, n_iter=50,\n",
        "            scoring = 'neg_mean_absolute_error',n_jobs = -1,\n",
        "            verbose = 5, \n",
        "            return_train_score = True,\n",
        "            random_state=42)"
      ],
      "execution_count": null,
      "outputs": []
    },
    {
      "cell_type": "code",
      "metadata": {
        "id": "rHKd8ndP_NFP",
        "outputId": "5095ad65-699f-43c1-e128-706d7cd33748",
        "colab": {
          "base_uri": "https://localhost:8080/",
          "height": 541
        }
      },
      "source": [
        "random_cv.fit(X_train,Y_train)"
      ],
      "execution_count": null,
      "outputs": [
        {
          "output_type": "stream",
          "text": [
            "Fitting 5 folds for each of 50 candidates, totalling 250 fits\n"
          ],
          "name": "stdout"
        },
        {
          "output_type": "stream",
          "text": [
            "[Parallel(n_jobs=-1)]: Using backend LokyBackend with 2 concurrent workers.\n",
            "[Parallel(n_jobs=-1)]: Done  14 tasks      | elapsed:  2.3min\n",
            "[Parallel(n_jobs=-1)]: Done  68 tasks      | elapsed:  8.3min\n",
            "[Parallel(n_jobs=-1)]: Done 158 tasks      | elapsed: 21.9min\n",
            "[Parallel(n_jobs=-1)]: Done 250 out of 250 | elapsed: 36.3min finished\n"
          ],
          "name": "stderr"
        },
        {
          "output_type": "stream",
          "text": [
            "[09:59:31] WARNING: /workspace/src/objective/regression_obj.cu:152: reg:linear is now deprecated in favor of reg:squarederror.\n"
          ],
          "name": "stdout"
        },
        {
          "output_type": "execute_result",
          "data": {
            "text/plain": [
              "RandomizedSearchCV(cv=5, error_score=nan,\n",
              "                   estimator=XGBRegressor(base_score=0.5, booster='gbtree',\n",
              "                                          colsample_bylevel=1,\n",
              "                                          colsample_bynode=1,\n",
              "                                          colsample_bytree=1, gamma=0,\n",
              "                                          importance_type='gain',\n",
              "                                          learning_rate=0.1, max_delta_step=0,\n",
              "                                          max_depth=3, min_child_weight=1,\n",
              "                                          missing=None, n_estimators=100,\n",
              "                                          n_jobs=1, nthread=None,\n",
              "                                          objective='reg:linear',\n",
              "                                          random_state=0, reg_alpha=...\n",
              "                                          verbosity=1),\n",
              "                   iid='deprecated', n_iter=50, n_jobs=-1,\n",
              "                   param_distributions={'base_score': [0.25, 0.5, 0.75, 1],\n",
              "                                        'booster': ['gbtree', 'gblinear'],\n",
              "                                        'learning_rate': [0.05, 0.1, 0.15],\n",
              "                                        'max_depth': [2, 3, 5],\n",
              "                                        'min_child_weight': [1, 2, 3],\n",
              "                                        'n_estimators': [100, 500, 900]},\n",
              "                   pre_dispatch='2*n_jobs', random_state=42, refit=True,\n",
              "                   return_train_score=True, scoring='neg_mean_absolute_error',\n",
              "                   verbose=5)"
            ]
          },
          "metadata": {
            "tags": []
          },
          "execution_count": 89
        }
      ]
    },
    {
      "cell_type": "markdown",
      "metadata": {
        "id": "aA8uoG6cGdiK"
      },
      "source": [
        ""
      ]
    },
    {
      "cell_type": "markdown",
      "metadata": {
        "id": "JLDwCXDiXxRY"
      },
      "source": [
        ""
      ]
    },
    {
      "cell_type": "code",
      "metadata": {
        "id": "QByGZ7y3AdXN",
        "outputId": "018d8185-5ae4-44b4-d70c-50966d440a00",
        "colab": {
          "base_uri": "https://localhost:8080/",
          "height": 134
        }
      },
      "source": [
        "\n",
        "random_cv.best_estimator_"
      ],
      "execution_count": null,
      "outputs": [
        {
          "output_type": "execute_result",
          "data": {
            "text/plain": [
              "XGBRegressor(base_score=1, booster='gbtree', colsample_bylevel=1,\n",
              "             colsample_bynode=1, colsample_bytree=1, gamma=0,\n",
              "             importance_type='gain', learning_rate=0.1, max_delta_step=0,\n",
              "             max_depth=5, min_child_weight=1, missing=None, n_estimators=500,\n",
              "             n_jobs=1, nthread=None, objective='reg:linear', random_state=0,\n",
              "             reg_alpha=0, reg_lambda=1, scale_pos_weight=1, seed=None,\n",
              "             silent=None, subsample=1, verbosity=1)"
            ]
          },
          "metadata": {
            "tags": []
          },
          "execution_count": 91
        }
      ]
    },
    {
      "cell_type": "code",
      "metadata": {
        "id": "63bOjy4BAfi0"
      },
      "source": [
        "classifier = xgboost.XGBClassifier(base_score=1, booster='gbtree', colsample_bylevel=1,\n",
        "             colsample_bynode=1, colsample_bytree=1, gamma=0,\n",
        "             importance_type='gain', learning_rate=0.1, max_delta_step=0,\n",
        "             max_depth=5, min_child_weight=1, missing=None, n_estimators=500,\n",
        "             n_jobs=1, nthread=None, objective='reg:linear', random_state=0,\n",
        "             reg_alpha=0, reg_lambda=1, scale_pos_weight=1, seed=None,\n",
        "             silent=None, subsample=1, verbosity=1)"
      ],
      "execution_count": null,
      "outputs": []
    },
    {
      "cell_type": "code",
      "metadata": {
        "id": "w5y75CN5AkRl",
        "outputId": "9bb167fa-9d32-48e1-be3b-fbdc5c552c94",
        "colab": {
          "base_uri": "https://localhost:8080/",
          "height": 134
        }
      },
      "source": [
        "classifier.fit(X_train,Y_train)"
      ],
      "execution_count": null,
      "outputs": [
        {
          "output_type": "execute_result",
          "data": {
            "text/plain": [
              "XGBClassifier(base_score=1, booster='gbtree', colsample_bylevel=1,\n",
              "              colsample_bynode=1, colsample_bytree=1, gamma=0,\n",
              "              learning_rate=0.1, max_delta_step=0, max_depth=5,\n",
              "              min_child_weight=1, missing=None, n_estimators=500, n_jobs=1,\n",
              "              nthread=None, objective='multi:softprob', random_state=0,\n",
              "              reg_alpha=0, reg_lambda=1, scale_pos_weight=1, seed=None,\n",
              "              silent=None, subsample=1, verbosity=1)"
            ]
          },
          "metadata": {
            "tags": []
          },
          "execution_count": 104
        }
      ]
    },
    {
      "cell_type": "code",
      "metadata": {
        "id": "4ZBL100aAmUV"
      },
      "source": [
        "y_pred = classifier.predict(X_test)"
      ],
      "execution_count": null,
      "outputs": []
    },
    {
      "cell_type": "code",
      "metadata": {
        "id": "9OC5w5Z_ArFN",
        "outputId": "786f8f45-5dc6-471f-b2c0-10f11dce2969",
        "colab": {
          "base_uri": "https://localhost:8080/",
          "height": 67
        }
      },
      "source": [
        "from sklearn.metrics import mean_squared_error\n",
        "from sklearn.metrics import accuracy_score\n",
        "\n",
        "print(classifier.score(X_train,Y_train))\n",
        "print(accuracy_score(Y_train, classifier.predict(X_train), normalize=False))\n",
        "print(np.sqrt(mean_squared_error(Y_train,classifier.predict(X_train))))"
      ],
      "execution_count": null,
      "outputs": [
        {
          "output_type": "stream",
          "text": [
            "0.854396902923766\n",
            "75920\n",
            "0.4435294349081822\n"
          ],
          "name": "stdout"
        }
      ]
    },
    {
      "cell_type": "markdown",
      "metadata": {
        "id": "0G7gAaYqx7RY"
      },
      "source": [
        "LOGISTIC REGRESSION"
      ]
    },
    {
      "cell_type": "code",
      "metadata": {
        "id": "UxsRneOYuqTl"
      },
      "source": [
        "from sklearn.model_selection import GridSearchCV\n",
        "from sklearn.linear_model import LogisticRegression\n",
        "grid={\"C\":np.logspace(-3,3,7), \"penalty\":[\"l1\",\"l2\"]}# l1 lasso l2 ridge\n",
        "logreg=LogisticRegression()\n",
        "logreg_cv=GridSearchCV(logreg,grid,cv=10)"
      ],
      "execution_count": null,
      "outputs": []
    },
    {
      "cell_type": "code",
      "metadata": {
        "id": "hbe2g5Uvu9qU"
      },
      "source": [
        "logreg_cv.fit(X_train,Y_train)"
      ],
      "execution_count": null,
      "outputs": []
    },
    {
      "cell_type": "code",
      "metadata": {
        "id": "Vs2J8FLMvNeH",
        "outputId": "5088f6ff-5885-4c59-9772-62e9d24b3591",
        "colab": {
          "base_uri": "https://localhost:8080/",
          "height": 50
        }
      },
      "source": [
        "print(\"tuned hpyerparameters :(best parameters) \",logreg_cv.best_params_)\n",
        "print(\"accuracy :\",logreg_cv.best_score_)"
      ],
      "execution_count": null,
      "outputs": [
        {
          "output_type": "stream",
          "text": [
            "tuned hpyerparameters :(best parameters)  {'C': 0.001, 'penalty': 'l2'}\n",
            "accuracy : 0.8354678247357796\n"
          ],
          "name": "stdout"
        }
      ]
    },
    {
      "cell_type": "code",
      "metadata": {
        "id": "Ajf1Y-LAvNbJ",
        "outputId": "3584759f-6736-440f-dbe3-968fe9b65935",
        "colab": {
          "base_uri": "https://localhost:8080/",
          "height": 100
        }
      },
      "source": [
        "logreg2=LogisticRegression(C =0.001, penalty = \"l2\")\n",
        "logreg2.fit(X_train,Y_train)\n"
      ],
      "execution_count": null,
      "outputs": [
        {
          "output_type": "execute_result",
          "data": {
            "text/plain": [
              "LogisticRegression(C=0.001, class_weight=None, dual=False, fit_intercept=True,\n",
              "                   intercept_scaling=1, l1_ratio=None, max_iter=100,\n",
              "                   multi_class='auto', n_jobs=None, penalty='l2',\n",
              "                   random_state=None, solver='lbfgs', tol=0.0001, verbose=0,\n",
              "                   warm_start=False)"
            ]
          },
          "metadata": {
            "tags": []
          },
          "execution_count": 57
        }
      ]
    },
    {
      "cell_type": "code",
      "metadata": {
        "id": "k5TJtzjNxCSi"
      },
      "source": [
        "y_pred2 = logreg2.predict(X_test)"
      ],
      "execution_count": null,
      "outputs": []
    },
    {
      "cell_type": "code",
      "metadata": {
        "id": "Nl9oRE9_xWAc",
        "outputId": "3b7878fe-d60a-44af-9bbc-86e71d0173a8",
        "colab": {
          "base_uri": "https://localhost:8080/",
          "height": 67
        }
      },
      "source": [
        "from sklearn.metrics import mean_squared_error\n",
        "from sklearn.metrics import accuracy_score\n",
        "\n",
        "print(logreg2.score(X_train,Y_train))\n",
        "print(accuracy_score(Y_train, logreg2.predict(X_train), normalize=False))\n",
        "print(np.sqrt(mean_squared_error(Y_train,logreg2.predict(X_train))))"
      ],
      "execution_count": null,
      "outputs": [
        {
          "output_type": "stream",
          "text": [
            "0.8354678250692116\n",
            "74238\n",
            "0.49256782427791207\n"
          ],
          "name": "stdout"
        }
      ]
    },
    {
      "cell_type": "markdown",
      "metadata": {
        "id": "ZkVFrF5RBib4"
      },
      "source": [
        "sample submission file format"
      ]
    },
    {
      "cell_type": "code",
      "metadata": {
        "id": "Uin6rIkHBgU2"
      },
      "source": [
        "pred2 = pd.DataFrame(y_pred2)\n",
        "sub_df = pd.read_csv('/content/sample_submission_O1oDc4H.csv')\n",
        "final  =pd.concat([sub_df['ID'],pred2],axis=1)\n",
        "final.columns = ['ID','Crop_Damage']\n",
        "final.to_csv('sample_submission3.csv',index =False)"
      ],
      "execution_count": null,
      "outputs": []
    }
  ]
}